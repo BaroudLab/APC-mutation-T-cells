{
 "cells": [
  {
   "cell_type": "code",
   "execution_count": 1,
   "id": "f72d6a1f-4dd1-46cf-a476-5b38a85174b1",
   "metadata": {
    "tags": []
   },
   "outputs": [],
   "source": [
    "import pandas\n",
    "import numpy as np\n",
    "import matplotlib.pyplot as plt\n",
    "import seaborn as sns\n",
    "from statannot import add_stat_annotation\n",
    "from tqdm import tqdm\n",
    "import copy\n",
    "from scipy.stats import linregress\n",
    "from scipy.optimize import curve_fit\n",
    "import matplotlib as mpl\n",
    "mpl.rcParams['lines.markersize'] = 10 \n",
    "from scipy import stats\n",
    "import random\n",
    "import trackpy as tp"
   ]
  },
  {
   "cell_type": "markdown",
   "id": "2584d634-6bc0-44e1-a36b-f2c22cd12f6e",
   "metadata": {},
   "source": [
    "# Function Definitions"
   ]
  },
  {
   "cell_type": "code",
   "execution_count": 2,
   "id": "d3d09530-f82f-4278-9156-afc7f1a627f0",
   "metadata": {
    "tags": []
   },
   "outputs": [],
   "source": [
    "def compute_char(data_frame,vt):\n",
    "    #compute: \n",
    "    # 1) speed \n",
    "    # 2) arrest coefficient i.e. time frames speend below vt\n",
    "    # 3) mean speed\n",
    "\n",
    "    for count,part in enumerate(data_frame.particle.unique()):\n",
    "        df = data_frame.loc[data_frame.particle == part].sort_values(by=['frame']) \n",
    "        if len(df) > 3:\n",
    "            dx = df.x.diff(1)\n",
    "            dy = df.y.diff(1)\n",
    "            dt = 3*df.frame.diff(1)\n",
    "            vx= (dx/dt).to_numpy()\n",
    "            vy= (dy/dt).to_numpy()\n",
    "            v = np.sqrt(vx**2 + vy**2)\n",
    "            real_v = v[1:-1]\n",
    "            if(len(real_v)):\n",
    "                a=len(real_v[real_v <= vt])/len(real_v)\n",
    "            else: # zero length\n",
    "                a=np.nan\n",
    "            new_df={'particle':df.particle.iloc[0]*np.ones(len(real_v)),\n",
    "                    'date':df.date.iloc[0] *np.ones(len(real_v)),\n",
    "                    'v':real_v,\n",
    "                    'frame_index':np.arange(0,len(real_v)),\n",
    "                    'well':df.well.iloc[0] *np.ones(len(real_v)),\n",
    "                    'arrest': a * np.ones(len(real_v)),'mv':np.mean(real_v) * np.ones(len(real_v)),\n",
    "                    'x':df.x.iloc[1:-1],\n",
    "                    'y': df.y.iloc[1:-1],\n",
    "                    'frame': df.frame.iloc[1:-1],\n",
    "                    'numf': df.shape[0]}\n",
    "            if(count == 0):\n",
    "                out=pandas.DataFrame(new_df)\n",
    "            else:  \n",
    "                out=pandas.concat([out,pandas.DataFrame(new_df)])\n",
    "    return out \n",
    "\n",
    "def compute_char_well(data_frame):\n",
    "    \n",
    "    #characteristics per well:\n",
    "    # 1) mean arrest coefficient\n",
    "    # 2) num of cells\n",
    "    # 3) mean speed\n",
    "\n",
    "    for count,well in enumerate(data_frame.well.unique()):\n",
    "        df = data_frame.loc[data_frame.well == well]\n",
    "        coll_a = [df[df.particle == p].arrest.iloc[0] for p in df.particle.unique()]\n",
    "        coll_v = [df[df.particle == p].mv.iloc[0] for p in df.particle.unique()]\n",
    "        new_df={'well':df.well.iloc[0],'date':df.date.iloc[0],\n",
    "                'arrest': np.nanmean(coll_a),\n",
    "                'v': np.nanmean(coll_v),\n",
    "                'cells': len(df.particle.unique())}\n",
    "        if(count == 0):\n",
    "            out=pandas.DataFrame(new_df, index=[0])\n",
    "        else:  \n",
    "            out=pandas.concat([out,pandas.DataFrame(new_df, index=[0])])\n",
    "            \n",
    "    return out \n",
    "\n",
    "def select_well_prop_per_part(data_frame_track):\n",
    "    for count,part in enumerate(data_frame_track.particle.unique()):\n",
    "        df = data_frame_track.loc[data_frame_track.particle == part]\n",
    "        new_df={'well':df.well.iloc[0],'date':df.date.iloc[0],'particle':df.particle.iloc[0],'arrest':df.arrest.iloc[0],\n",
    "                'mv':df.mv.iloc[0]}\n",
    "        if(count == 0):\n",
    "            out=pandas.DataFrame(new_df, index=[0])\n",
    "        else:  \n",
    "            out=pandas.concat([out,pandas.DataFrame(new_df, index=[0])])   \n",
    "    return out"
   ]
  },
  {
   "cell_type": "markdown",
   "id": "9db56398-b6b1-4f04-aec6-6387890fdb6f",
   "metadata": {},
   "source": [
    "# Load data"
   ]
  },
  {
   "cell_type": "code",
   "execution_count": 5,
   "id": "5d7b438e-1061-408f-bab4-78f1fd5359a4",
   "metadata": {
    "tags": []
   },
   "outputs": [],
   "source": [
    "data_on_spheroid = pandas.read_csv(r'Data\\Trajectories_on_spheroids.csv')\n",
    "tracks_wt_spheroid = data_on_spheroid.loc[data_on_spheroid.type == 'wt'].reset_index(drop = True)\n",
    "tracks_apc_spheroid = data_on_spheroid.loc[data_on_spheroid.type == 'apc'].reset_index(drop = True)"
   ]
  },
  {
   "cell_type": "code",
   "execution_count": 6,
   "id": "b8889056-aef6-4142-9b49-da808827b21e",
   "metadata": {
    "tags": []
   },
   "outputs": [],
   "source": [
    "data_on_matrigel = pandas.read_csv(r'Data\\Trajectories_in_matrigel.csv')\n",
    "tracks_wt_matrigel = data_on_matrigel.loc[data_on_matrigel.type == 'wt'].reset_index(drop = True)\n",
    "tracks_apc_matrigel = data_on_matrigel.loc[data_on_matrigel.type == 'apc'].reset_index(drop = True)"
   ]
  },
  {
   "cell_type": "code",
   "execution_count": 7,
   "id": "daf8ac9d-0355-4652-bed7-913226035654",
   "metadata": {
    "tags": []
   },
   "outputs": [
    {
     "data": {
      "text/plain": [
       "{'divide': 'ignore', 'over': 'warn', 'under': 'ignore', 'invalid': 'ignore'}"
      ]
     },
     "execution_count": 7,
     "metadata": {},
     "output_type": "execute_result"
    }
   ],
   "source": [
    "vel_thresh = 1\n",
    "\n",
    "np.seterr(divide='ignore', invalid='ignore')\n",
    "data_apc_on=compute_char(tracks_apc_spheroid,vel_thresh)\n",
    "data_wt_on=compute_char(tracks_wt_spheroid,vel_thresh)\n",
    "np.seterr(divide='warn', invalid='warn')\n",
    "\n",
    "np.seterr(divide='ignore', invalid='ignore')\n",
    "data_apc_out=compute_char(tracks_apc_matrigel,vel_thresh)\n",
    "data_wt_out=compute_char(tracks_wt_matrigel,vel_thresh)\n",
    "np.seterr(divide='warn', invalid='warn')"
   ]
  },
  {
   "cell_type": "markdown",
   "id": "3ce3825e-abb9-408d-aa54-d11928381698",
   "metadata": {},
   "source": [
    "# MSD on spheroids"
   ]
  },
  {
   "cell_type": "code",
   "execution_count": null,
   "id": "b8ee9525-736c-4c50-aed1-d6230a2a8d82",
   "metadata": {
    "tags": []
   },
   "outputs": [],
   "source": [
    "# Separate biological replicates\n",
    "apc_on_221124 = tracks_apc_spheroid.loc[(tracks_apc_spheroid.date == 221124)]\n",
    "wt_on_221124 = tracks_wt_spheroid.loc[(tracks_wt_spheroid.date == 221124)]\n",
    "apc_on_220901 = tracks_apc_spheroid.loc[(tracks_apc_spheroid.date == 220901)]\n",
    "wt_on_220901 = tracks_wt_spheroid.loc[(tracks_wt_spheroid.date == 220901)]\n",
    "apc_on_220719 = tracks_apc_spheroid.loc[(tracks_apc_spheroid.date == 220719)]\n",
    "wt_on_220719 = tracks_wt_spheroid.loc[(tracks_wt_spheroid.date == 220719)]\n",
    "\n",
    "apc_on_tot = pandas.concat([apc_on_221124, apc_on_220901, apc_on_220719]).reset_index(drop = True)\n",
    "wt_on_tot = pandas.concat([wt_on_221124, wt_on_220901, wt_on_220719]).reset_index(drop = True)\n",
    "\n",
    "# Bootstrap data\n",
    "\n",
    "N = 20\n",
    "\n",
    "# WT cells\n",
    "sample_wt_on = pandas.DataFrame()\n",
    "nb_wt_on = 15\n",
    "wt_on_221124_cell_nb = np.array(wt_on_221124.particle.unique())\n",
    "wt_on_220901_cell_nb = np.array(wt_on_220901.particle.unique())\n",
    "wt_on_220719_cell_nb = np.array(wt_on_220719.particle.unique())\n",
    "\n",
    "for q in [i for i in range(100)]:\n",
    "    list_wt_on = np.concatenate([random.sample(wt_on_221124_cell_nb.tolist(), nb_wt_on),\n",
    "                                 random.sample(wt_on_220901_cell_nb.tolist(), nb_wt_on),\n",
    "                                 random.sample(wt_on_220719_cell_nb.tolist(), nb_wt_on)])\n",
    "    y = random.sample(list_wt_on.tolist(), N)\n",
    "    selection = wt_on_tot.loc[wt_on_tot.particle.isin(y)]\n",
    "    msd_wt = tp.emsd(selection, 1, 1/3)\n",
    "    limit = 100\n",
    "    msd_wt = pandas.DataFrame(msd_wt).reset_index()\n",
    "    msd_wt = msd_wt.loc[msd_wt.lagt <= limit]\n",
    "    msd_wt = msd_wt.set_index('lagt')\n",
    "    msd_wt = msd_wt[['msd']]\n",
    "    msd_wt = msd_wt.reset_index()\n",
    "    \n",
    "    sample_wt_on = pandas.concat([sample_wt_on, msd_wt])\n",
    "\n",
    "# APC cells\n",
    "sample_apc_on = pandas.DataFrame()\n",
    "nb_apc_on = 15\n",
    "apc_on_221124_cell_nb = np.array(apc_on_221124.particle.unique())\n",
    "apc_on_220901_cell_nb = np.array(apc_on_220901.particle.unique())\n",
    "apc_on_220719_cell_nb = np.array(apc_on_220719.particle.unique())\n",
    "\n",
    "for q in [i for i in range(100)]:\n",
    "    list_apc_on = np.concatenate([random.sample(apc_on_221124_cell_nb.tolist(), nb_apc_on),\n",
    "                                  random.sample(apc_on_220901_cell_nb.tolist(), nb_apc_on),\n",
    "                                  random.sample(apc_on_220719_cell_nb.tolist(), nb_apc_on)])\n",
    "    y = random.sample(list_apc_on.tolist(), N)\n",
    "    selection = apc_on_tot.loc[apc_on_tot.particle.isin(y)]\n",
    "    msd_apc = tp.emsd(selection, 1, 1/3)\n",
    "    limit = 100\n",
    "    msd_apc = pandas.DataFrame(msd_apc).reset_index()\n",
    "    msd_apc = msd_apc.loc[msd_apc.lagt <= limit]\n",
    "    msd_apc = msd_apc.set_index('lagt')\n",
    "    msd_apc = msd_apc[['msd']]\n",
    "    msd_apc = msd_apc.reset_index()\n",
    "    \n",
    "    sample_apc_on = pandas.concat([sample_apc_on, msd_apc])\n",
    "    \n",
    "sample_wt_on['type'] = 'wt'\n",
    "sample_wt_on.lagt = np.round(np.array(sample_wt_on.lagt),0).astype(int)\n",
    "sample_apc_on['type'] = 'apc'\n",
    "sample_apc_on.lagt = np.round(np.array(sample_apc_on.lagt),0).astype(int)\n",
    "sample_tot = pandas.concat([sample_wt_on, sample_apc_on])\n",
    "sample_tot.lagt = np.round(np.array(sample_tot.lagt),0).astype(int)"
   ]
  },
  {
   "cell_type": "code",
   "execution_count": 9,
   "id": "1ad286b2-2bcb-4e7c-be3a-c27c461601f8",
   "metadata": {
    "tags": []
   },
   "outputs": [
    {
     "data": {
      "image/png": "[encoded data removed]",
      "text/plain": [
       "<Figure size 250x300 with 1 Axes>"
      ]
     },
     "metadata": {},
     "output_type": "display_data"
    }
   ],
   "source": [
    "# Define font\n",
    "plt.rc('font',family='Arial')\n",
    "\n",
    "# Plot\n",
    "fig, ax = plt.subplots(1, figsize = (2.5,3))\n",
    "\n",
    "ax.spines['top'].set_visible(False)\n",
    "ax.spines['right'].set_visible(False)\n",
    "ax.spines['bottom'].set_visible(True)\n",
    "ax.spines['left'].set_visible(True)\n",
    "ax.tick_params(axis='x', labelsize=12)\n",
    "ax.tick_params(axis='y', labelsize=12)       \n",
    "ax.tick_params(width=1, length=4)\n",
    "for axis in ['bottom','left']:\n",
    "    ax.spines[axis].set_linewidth(1)\n",
    "order = ['APC', 'WT']\n",
    "\n",
    "sns.lineplot(data = sample_wt_on, x = 'lagt', y = 'msd', marker = 'o', color = 'dodgerblue', err_style=\"bars\", linestyle='', markersize = 5, label = r'$CTRL$')\n",
    "sns.lineplot(data = sample_apc_on, x = 'lagt', y = 'msd', marker = 'o', color = 'firebrick', err_style=\"bars\", linestyle='', markersize = 5, label = r'$APC^{Min\\ /+}$')\n",
    "\n",
    "ax.set_xlabel(r'$\\Delta t$ (min)', fontsize = 14)\n",
    "ax.set_ylabel(r'$\\langle \\Delta  r^2 \\rangle$ ($\\mu$m$^2$)', fontsize = 14)\n",
    "ax.get_legend().remove()\n",
    "plt.show()"
   ]
  },
  {
   "cell_type": "markdown",
   "id": "35ab15db-939c-4e19-91da-617612c3d541",
   "metadata": {},
   "source": [
    "# Mean cell velocities and arrest coefficient per droplet"
   ]
  },
  {
   "cell_type": "code",
   "execution_count": 10,
   "id": "80c5225d-5d0d-4a3d-a0a9-afc2b3e6fc45",
   "metadata": {
    "tags": []
   },
   "outputs": [
    {
     "data": {
      "text/plain": [
       "{'divide': 'ignore', 'over': 'warn', 'under': 'ignore', 'invalid': 'ignore'}"
      ]
     },
     "execution_count": 10,
     "metadata": {},
     "output_type": "execute_result"
    }
   ],
   "source": [
    "np.seterr(divide='ignore', invalid='ignore')\n",
    "prop_apc_on=compute_char_well(data_apc_on)\n",
    "prop_wt_on=compute_char_well(data_wt_on)\n",
    "\n",
    "np.seterr(divide='warn', invalid='warn')"
   ]
  },
  {
   "cell_type": "code",
   "execution_count": 11,
   "id": "a1a5916d-c68e-4e32-8ef5-db2e2e8a7760",
   "metadata": {
    "tags": []
   },
   "outputs": [],
   "source": [
    "well_wt_on=select_well_prop_per_part(data_wt_on)\n",
    "well_apc_on=select_well_prop_per_part(data_apc_on)\n",
    "well_wt_on['type']='wt'\n",
    "well_apc_on['type']='apc'\n",
    "collect_on = pandas.concat([well_wt_on,well_apc_on])\n",
    "collect_on['on_sph'] = True\n",
    "collect_on = collect_on.reset_index(drop = True)\n",
    "\n",
    "well_wt_out=select_well_prop_per_part(data_wt_out)\n",
    "well_apc_out=select_well_prop_per_part(data_apc_out)\n",
    "well_wt_out['type']='wt'\n",
    "well_apc_out['type']='apc'\n",
    "collect_out = pandas.concat([well_wt_out,well_apc_out])\n",
    "collect_out['on_sph'] = False\n",
    "collect_out = collect_out.reset_index(drop = True)\n",
    "\n",
    "collect = pandas.concat([collect_out, collect_on]).reset_index(drop = True)\n",
    "\n",
    "select = collect[['well', 'date', 'mv', 'type', 'on_sph']]\n",
    "Average_vel = select.groupby(['date', 'on_sph','type', 'well']).mean().reset_index()\n",
    "\n",
    "collect['arrest_percent'] = 100*collect['arrest']\n",
    "select = collect[['well', 'date', 'arrest_percent', 'type', 'on_sph']]\n",
    "Arrest_coeff = select.groupby(['date', 'on_sph','type', 'well']).mean().reset_index()"
   ]
  },
  {
   "cell_type": "code",
   "execution_count": 12,
   "id": "8c187c66-8c41-4826-b6ab-d1e249e23aed",
   "metadata": {
    "tags": []
   },
   "outputs": [
    {
     "data": {
      "image/png": "[encoded data removed]",
      "text/plain": [
       "<Figure size 180x300 with 1 Axes>"
      ]
     },
     "metadata": {},
     "output_type": "display_data"
    }
   ],
   "source": [
    "# Define font\n",
    "plt.rc('font',family='Arial')\n",
    "\n",
    "# Plot\n",
    "fig, ax = plt.subplots(1, figsize = (1.8,3))\n",
    "\n",
    "order = [False, True]\n",
    "hue_order = ['apc', 'wt']\n",
    "\n",
    "# ax.set_ylim(0,60)\n",
    "ax.spines['top'].set_visible(False)\n",
    "ax.spines['right'].set_visible(False)\n",
    "ax.spines['bottom'].set_visible(True)\n",
    "ax.spines['left'].set_visible(True)\n",
    "ax.tick_params(axis='x', labelsize=14, rotation=0)\n",
    "ax.tick_params(axis='y', labelsize=14)        \n",
    "ax.tick_params(width=1, length=4)\n",
    "for axis in ['bottom','left']:\n",
    "    ax.spines[axis].set_linewidth(1)\n",
    "\n",
    "sns.barplot(\n",
    "    x = 'on_sph',\n",
    "    y = 'mv',\n",
    "    hue = 'type',\n",
    "    data=Average_vel,\n",
    "    order = order,\n",
    "    hue_order = hue_order,\n",
    "    palette = ['firebrick','dodgerblue'],\n",
    "    errorbar='se',\n",
    "    errcolor='black',\n",
    "    capsize=0.2,\n",
    "    errwidth=1,\n",
    "    color = 'r',\n",
    "    lw = 1, \n",
    "    edgecolor=\"0\"\n",
    ")\n",
    "\n",
    "add_stat_annotation(ax = ax,\n",
    "                    data=Average_vel,   \n",
    "                    x='on_sph',\n",
    "                    y='mv',\n",
    "                    hue = 'type',\n",
    "                    order = order,\n",
    "                    hue_order = hue_order,\n",
    "                    box_pairs=[((True, 'wt'), (True, 'apc')), ((False, 'wt'), (False, 'apc'))],\n",
    "                    test='t-test_welch', \n",
    "                    comparisons_correction=None, \n",
    "                    fontsize = 14,\n",
    "                    text_format='star', loc='outside', verbose=0)\n",
    "\n",
    "ax.set_xlabel(' ', fontsize = 14)\n",
    "ax.set_ylabel(r'$\\langle v \\rangle (µm/min)$', fontsize = 14)\n",
    "ax.get_legend().remove()\n",
    "labels = ['in gel', 'on tumor']\n",
    "ax.set_xticklabels(labels, fontsize = 12)\n",
    "plt.show()"
   ]
  },
  {
   "cell_type": "code",
   "execution_count": 14,
   "id": "60fc774b-8b3a-4b49-a3ae-c4fc556a5aea",
   "metadata": {
    "tags": []
   },
   "outputs": [
    {
     "data": {
      "image/png": "[encoded data removed]",
      "text/plain": [
       "<Figure size 180x300 with 1 Axes>"
      ]
     },
     "metadata": {},
     "output_type": "display_data"
    }
   ],
   "source": [
    "# Define font\n",
    "plt.rc('font',family='Arial')\n",
    "\n",
    "# Plot\n",
    "fig, ax = plt.subplots(1, figsize = (1.8,3))\n",
    "\n",
    "order = [False, True]\n",
    "hue_order = ['apc', 'wt']\n",
    "\n",
    "ax.set_ylim(0,60)\n",
    "ax.spines['top'].set_visible(False)\n",
    "ax.spines['right'].set_visible(False)\n",
    "ax.spines['bottom'].set_visible(True)\n",
    "ax.spines['left'].set_visible(True)\n",
    "ax.tick_params(axis='x', labelsize=14, rotation=0)\n",
    "ax.tick_params(axis='y', labelsize=14)        \n",
    "ax.tick_params(width=1, length=4)\n",
    "for axis in ['bottom','left']:\n",
    "    ax.spines[axis].set_linewidth(1)\n",
    "\n",
    "sns.barplot(\n",
    "    x = 'on_sph',\n",
    "    y = 'arrest_percent',\n",
    "    hue = 'type',\n",
    "    data=Arrest_coeff,\n",
    "    order = order,\n",
    "    hue_order = hue_order,\n",
    "    palette = ['firebrick','dodgerblue'],\n",
    "    errorbar='se',\n",
    "    errcolor='black',\n",
    "    capsize=0.2,\n",
    "    errwidth=1,\n",
    "    color = 'r',\n",
    "    lw = 1, \n",
    "    edgecolor=\"0\"\n",
    ")\n",
    "\n",
    "add_stat_annotation(ax = ax,\n",
    "                    data=Arrest_coeff,   \n",
    "                    x='on_sph',\n",
    "                    y='arrest_percent',\n",
    "                    hue = 'type',\n",
    "                    order = order,\n",
    "                    hue_order = hue_order,\n",
    "                    box_pairs=[((True, 'apc'), (False, 'apc')),((True, 'wt'), (True, 'apc')),((False, 'wt'), (False, 'apc')),((True, 'wt'), (False, 'wt'))],\n",
    "                    test='t-test_welch', \n",
    "                    comparisons_correction=None, \n",
    "                    fontsize = 14,\n",
    "                    text_format='star', loc='outside', verbose=0)\n",
    "\n",
    "ax.set_xlabel(' ', fontsize = 14)\n",
    "ax.set_ylabel('Arrest coefficient (%)', fontsize = 14)\n",
    "ax.get_legend().remove()\n",
    "labels = ['in gel', 'on tumor']\n",
    "ax.set_xticklabels(labels, fontsize = 12)\n",
    "plt.show()"
   ]
  },
  {
   "cell_type": "markdown",
   "id": "8491d4cc-8921-4b1f-a1e8-84e5e69ff3eb",
   "metadata": {},
   "source": [
    "# Single cell velocity"
   ]
  },
  {
   "cell_type": "code",
   "execution_count": 15,
   "id": "289b25bc-128c-4799-8dcd-344b8a298e89",
   "metadata": {
    "tags": []
   },
   "outputs": [
    {
     "data": {
      "image/png": "[encoded data removed]",
      "text/plain": [
       "<Figure size 350x250 with 2 Axes>"
      ]
     },
     "metadata": {},
     "output_type": "display_data"
    }
   ],
   "source": [
    "# Define font\n",
    "plt.rc('font',family='Arial')\n",
    "\n",
    "# Plot\n",
    "fig, ax = plt.subplots(2,1, figsize = (3.5,2.5))\n",
    "\n",
    "plt.subplots_adjust(left=None, bottom=None, right=None, top=None, wspace=0.3, hspace=0.4)\n",
    "\n",
    "for i in [0,1]:\n",
    "    ax[i].set_ylim(-1,12)\n",
    "    ax[i].spines['top'].set_visible(False)\n",
    "    ax[i].spines['right'].set_visible(False)\n",
    "    ax[i].spines['bottom'].set_visible(True)\n",
    "    ax[i].spines['left'].set_visible(True)\n",
    "    ax[i].tick_params(axis='x', labelsize=14, rotation=0)\n",
    "    ax[i].tick_params(axis='y', labelsize=14)        \n",
    "    ax[i].tick_params(width=1, length=4)\n",
    "    for axis in ['bottom','left']:\n",
    "        ax[i].spines[axis].set_linewidth(1)\n",
    "\n",
    "particle_nb = 35\n",
    "tracks_wt_no_nan = data_wt_on.dropna()\n",
    "time = np.array(tracks_wt_no_nan.loc[tracks_wt_no_nan.particle == particle_nb, 'frame']*3)\n",
    "time = time - np.min(time)\n",
    "velocity = np.array(tracks_wt_no_nan.loc[tracks_wt_no_nan.particle == particle_nb, 'v'])\n",
    "ax[1].plot(time, velocity, color = 'dodgerblue')\n",
    "ax[1].plot(time, [1]*len(time), '--k')\n",
    "ax[0].set_ylabel(' ', fontsize=14)\n",
    "ax[0].set_xlabel(' ', fontsize=14)\n",
    "\n",
    "particle_nb = 22\n",
    "tracks_apc_no_nan = data_apc_on.dropna()\n",
    "time = np.array(tracks_apc_no_nan.loc[tracks_apc_no_nan.particle == particle_nb, 'frame']*3)\n",
    "time = time - np.min(time)\n",
    "velocity = np.array(tracks_apc_no_nan.loc[tracks_apc_no_nan.particle == particle_nb, 'v'])\n",
    "ax[0].plot(time, velocity, color = 'firebrick')\n",
    "ax[0].plot(time, [1]*len(time), '--k')\n",
    "ax[1].set_ylabel(' ', fontsize=14)\n",
    "ax[1].set_xlabel('Time (min)', fontsize=14)\n",
    "\n",
    "fig.supylabel('Velocity (µm/min)', fontsize = 14, ha = 'right', x = 0.03)\n",
    "plt.show()"
   ]
  },
  {
   "cell_type": "code",
   "execution_count": null,
   "id": "6d5cb4f8-c369-49a8-8297-1878f564465b",
   "metadata": {},
   "outputs": [],
   "source": []
  }
 ],
 "metadata": {
  "kernelspec": {
   "display_name": "Python 3 (ipykernel)",
   "language": "python",
   "name": "python3"
  },
  "language_info": {
   "codemirror_mode": {
    "name": "ipython",
    "version": 3
   },
   "file_extension": ".py",
   "mimetype": "text/x-python",
   "name": "python",
   "nbconvert_exporter": "python",
   "pygments_lexer": "ipython3",
   "version": "3.7.16"
  }
 },
 "nbformat": 4,
 "nbformat_minor": 5
}
