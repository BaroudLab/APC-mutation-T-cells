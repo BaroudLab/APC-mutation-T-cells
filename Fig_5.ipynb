{
 "cells": [
  {
   "cell_type": "code",
   "execution_count": 1,
   "id": "2f862478-8466-4864-bb4d-52803f8ccdb9",
   "metadata": {
    "tags": []
   },
   "outputs": [],
   "source": [
    "import pandas\n",
    "import numpy as np\n",
    "import matplotlib.pyplot as plt\n",
    "import seaborn as sns\n",
    "from tqdm import tqdm\n",
    "import copy\n",
    "from sklearn.preprocessing import StandardScaler\n",
    "from sklearn.decomposition import PCA\n",
    "import random\n",
    "import matplotlib as mpl\n",
    "mpl.rcParams['lines.markersize'] = 10 \n",
    "import matplotlib.cm as cm\n",
    "import matplotlib.colors as mcolors\n",
    "from sklearn import preprocessing\n",
    "from statannot import add_stat_annotation\n",
    "from scipy import optimize\n",
    "from sklearn.mixture import GaussianMixture\n",
    "import copy"
   ]
  },
  {
   "cell_type": "markdown",
   "id": "51d49c2d-37e5-4533-8fac-f95f3b242dc3",
   "metadata": {},
   "source": [
    "# Functions"
   ]
  },
  {
   "cell_type": "code",
   "execution_count": 2,
   "id": "7f022096-54b9-40df-9b88-43528742460f",
   "metadata": {
    "tags": []
   },
   "outputs": [],
   "source": [
    "def algin_P_to_cas(data_cas,data_cell,deltat,radius):\n",
    "    #1) find matching data (date,type amd well)\n",
    "    #2) x,y in cas determines caspase signal appearing at frame \"hitting\" -> determine properties around that\n",
    "    #3) only take data up tp delta_t frames befor hitting \n",
    "    #4) note that date and well is not unique since one well can have several not related caspase events\n",
    "    #5) select only \"relevant cells\" (in radius and time close) and provide time to caspase as new time\n",
    "    \n",
    "    count=0\n",
    "    for d in data_cas.date.unique():\n",
    "        df1=data_cas.loc[data_cas.date == d].copy(True)\n",
    "        for w in data_cas.well.unique():\n",
    "                df_cas = df1.loc[df1.well == w]\n",
    "    \n",
    "                #can have several entries because several caspases per well\n",
    "                count_loc=0\n",
    "                for foo,row in df_cas.iterrows():\n",
    "                    count_loc=count_loc+1\n",
    "                    df_cell = data_cell.loc[(data_cell.well==w) & (data_cell.date == d) ].copy()\n",
    "\n",
    "                    #distance to caspase event   \n",
    "                    df_cell['dist']= np.sqrt( (df_cell.x - row.x) **2  + ( df_cell.y -  row.y)**2 )    \n",
    "\n",
    "                    df_cell['oIT']= ( row.hitting-deltat < df_cell['frame']) & (df_cell['frame']<= row.hitting) \n",
    "                    df_cell['oID']= df_cell['dist']<=radius\n",
    "                    \n",
    "                    df_cell['oI']= df_cell['oIT'] &  df_cell['oID']\n",
    "                    df_cell.oI = df_cell.oI.replace({True: 1, False: 0})\n",
    "                        \n",
    "                    \n",
    "                    for part in df_cell.particle.unique():\n",
    "                        df=df_cell[df_cell.particle==part]\n",
    "\n",
    "                        if(df.oI.sum() >=5):#only cells with at least 5 frames\n",
    "                            df_oI= df[df.oI==1].copy()\n",
    "    \n",
    "                            new_df={'date':d,'well':w,'event':count_loc,'time_f':(row.hitting-df_oI.frame.values),'time': (row.hitting-df_oI.frame.values) *  0.05,\n",
    "                            'EP':df_oI.EP.values}\n",
    "    \n",
    "                            if(count == 0):\n",
    "                                out=pandas.DataFrame(new_df)\n",
    "                                count=1\n",
    "                            else:  \n",
    "                                out=pandas.concat([out,pandas.DataFrame(new_df)])             \n",
    "                                                   \n",
    "    return out                "
   ]
  },
  {
   "cell_type": "markdown",
   "id": "14a17557-ae9b-4e0d-a88a-82df178d5d64",
   "metadata": {},
   "source": [
    "# Load data"
   ]
  },
  {
   "cell_type": "code",
   "execution_count": 3,
   "id": "0a8e6b1a-9020-42dd-9695-65424514848b",
   "metadata": {
    "tags": []
   },
   "outputs": [],
   "source": [
    "data_on_spheroid = pandas.read_csv(r'Data\\Trajectories_on_spheroids.csv')\n",
    "tracks_wt = data_on_spheroid.loc[data_on_spheroid.type == 'wt'].reset_index(drop = True)\n",
    "tracks_apc = data_on_spheroid.loc[data_on_spheroid.type == 'apc'].reset_index(drop = True)"
   ]
  },
  {
   "cell_type": "code",
   "execution_count": 4,
   "id": "d05a8e1d-523f-49f6-87d6-a7807e870f81",
   "metadata": {
    "tags": []
   },
   "outputs": [],
   "source": [
    "data_with_EP = pandas.read_csv(r'Data\\Trajectories_with_EP.csv')\n",
    "EP_wt = data_with_EP.loc[data_with_EP.type == 'wt'].reset_index(drop = True)\n",
    "EP_apc = data_with_EP.loc[data_with_EP.type == 'apc'].reset_index(drop = True)"
   ]
  },
  {
   "cell_type": "markdown",
   "id": "432401e4-ef68-4174-b94f-cf6110839424",
   "metadata": {},
   "source": [
    "# Number of CTLs around cascasdes of apoptosis"
   ]
  },
  {
   "cell_type": "code",
   "execution_count": 8,
   "id": "90d4a543-b388-4418-9b45-8b28e04fc0ac",
   "metadata": {
    "tags": []
   },
   "outputs": [],
   "source": [
    "caspase_nucleation = pandas.read_csv(r'Data\\cascade_killing.csv')"
   ]
  },
  {
   "cell_type": "code",
   "execution_count": 9,
   "id": "1c8a96e5-cd26-4755-be95-22a67714729b",
   "metadata": {
    "tags": []
   },
   "outputs": [],
   "source": [
    "R = 50\n",
    "time_thresh = 5\n",
    "time_before = 80"
   ]
  },
  {
   "cell_type": "code",
   "execution_count": 10,
   "id": "28cc6570-9f52-4b3f-aa42-7eafe59d53b8",
   "metadata": {
    "tags": []
   },
   "outputs": [
    {
     "name": "stderr",
     "output_type": "stream",
     "text": [
      "C:\\Users\\vabonnet\\AppData\\Local\\miniconda3\\envs\\APC\\lib\\site-packages\\pandas\\core\\indexing.py:1684: SettingWithCopyWarning: \n",
      "A value is trying to be set on a copy of a slice from a DataFrame.\n",
      "Try using .loc[row_indexer,col_indexer] = value instead\n",
      "\n",
      "See the caveats in the documentation: https://pandas.pydata.org/pandas-docs/stable/user_guide/indexing.html#returning-a-view-versus-a-copy\n",
      "  self.obj[key] = infer_fill_value(value)\n",
      "C:\\Users\\vabonnet\\AppData\\Local\\miniconda3\\envs\\APC\\lib\\site-packages\\pandas\\core\\indexing.py:1817: SettingWithCopyWarning: \n",
      "A value is trying to be set on a copy of a slice from a DataFrame.\n",
      "Try using .loc[row_indexer,col_indexer] = value instead\n",
      "\n",
      "See the caveats in the documentation: https://pandas.pydata.org/pandas-docs/stable/user_guide/indexing.html#returning-a-view-versus-a-copy\n",
      "  self._setitem_single_column(loc, value, pi)\n"
     ]
    }
   ],
   "source": [
    "caspase_nucleation['event'] = [i for i in range(len(caspase_nucleation))]\n",
    "caspase_nucleation_apc = caspase_nucleation.loc[caspase_nucleation.type == 'apc']\n",
    "caspase_nucleation_wt = caspase_nucleation.loc[caspase_nucleation.type == 'wt']\n",
    "\n",
    "for event in caspase_nucleation_apc.event.unique(): \n",
    "    x_casp = caspase_nucleation_apc.loc[caspase_nucleation_apc.event == event, 'x'].item()\n",
    "    y_casp = caspase_nucleation_apc.loc[caspase_nucleation_apc.event == event, 'y'].item()\n",
    "    date = caspase_nucleation_apc.loc[caspase_nucleation_apc.event == event, 'date'].item()\n",
    "    well = caspase_nucleation_apc.loc[caspase_nucleation_apc.event == event, 'well'].item()\n",
    "    hitting = caspase_nucleation_apc.loc[caspase_nucleation_apc.event == event, 'hitting'].item()\n",
    "    \n",
    "    df = copy.copy(tracks_apc.loc[(tracks_apc.date == date) & (tracks_apc.well == well) & (tracks_apc.frame <= hitting)])\n",
    "    df['dist_to_caspase'] = np.nan\n",
    "    df['dist_to_caspase'] = np.sqrt((np.array(df['x']) - x_casp)**2 + (np.array(df['y']) - y_casp)**2)\n",
    "    \n",
    "    df['time_to_casp'] = np.nan\n",
    "    df['time_to_casp'] = df.frame - hitting\n",
    "   \n",
    "    part, counts = np.unique(np.array(df.loc[(df.dist_to_caspase <= R) & (df.time_to_casp > -time_before)].particle), return_counts = True)   \n",
    "    caspase_nucleation_apc.loc[caspase_nucleation_apc.event == event, 'nb_CTLs_50mu'] = np.sum(counts > time_thresh)\n",
    "    caspase_nucleation_apc.loc[caspase_nucleation_apc.event == event, 'cum_time'] = np.sum(counts[counts > time_thresh])*0.05\n",
    "    \n",
    "for event in caspase_nucleation_wt.event.unique(): \n",
    "    x_casp = caspase_nucleation_wt.loc[caspase_nucleation_wt.event == event, 'x'].item()\n",
    "    y_casp = caspase_nucleation_wt.loc[caspase_nucleation_wt.event == event, 'y'].item()\n",
    "    date = caspase_nucleation_wt.loc[caspase_nucleation_wt.event == event, 'date'].item()\n",
    "    well = caspase_nucleation_wt.loc[caspase_nucleation_wt.event == event, 'well'].item()\n",
    "    hitting = caspase_nucleation_wt.loc[caspase_nucleation_wt.event == event, 'hitting'].item()\n",
    "    \n",
    "    df = copy.copy(tracks_wt.loc[(tracks_wt.date == date) & (tracks_wt.well == well) & (tracks_wt.frame <= hitting)])\n",
    "    df['dist_to_caspase'] = np.nan\n",
    "    df['dist_to_caspase'] = np.sqrt((np.array(df['x']) - x_casp)**2 + (np.array(df['y']) - y_casp)**2)\n",
    "    \n",
    "    df['time_to_casp'] = np.nan\n",
    "    df['time_to_casp'] = df.frame - hitting\n",
    "   \n",
    "    part, counts = np.unique(np.array(df.loc[(df.dist_to_caspase <= R) & (df.time_to_casp > -time_before)].particle), return_counts = True)   \n",
    "    caspase_nucleation_wt.loc[caspase_nucleation_wt.event == event, 'nb_CTLs_50mu'] = np.sum(counts > time_thresh)\n",
    "    caspase_nucleation_wt.loc[caspase_nucleation_wt.event == event, 'cum_time'] = np.sum(counts[counts > time_thresh])*0.05\n",
    "    \n",
    "caspase_nucleation_all = pandas.concat([caspase_nucleation_wt, caspase_nucleation_apc])"
   ]
  },
  {
   "cell_type": "code",
   "execution_count": 11,
   "id": "d7ae94ab-b046-4dac-863f-0226830fbbeb",
   "metadata": {
    "tags": []
   },
   "outputs": [
    {
     "data": {
      "image/png": "[encoded data removed]",
      "text/plain": [
       "<Figure size 180x300 with 1 Axes>"
      ]
     },
     "metadata": {},
     "output_type": "display_data"
    }
   ],
   "source": [
    "# Define font\n",
    "plt.rc('font',family='Arial')\n",
    "\n",
    "# Plot\n",
    "fig, ax = plt.subplots(1, figsize = (1.8,3))\n",
    "\n",
    "order = ['apc', 'wt']\n",
    "\n",
    "ax.spines['top'].set_visible(False)\n",
    "ax.spines['right'].set_visible(False)\n",
    "ax.spines['bottom'].set_visible(True)\n",
    "ax.spines['left'].set_visible(True)\n",
    "ax.tick_params(axis='x', labelsize=12, rotation=0)\n",
    "ax.tick_params(axis='y', labelsize=14)        \n",
    "ax.tick_params(width=1, length=4)\n",
    "for axis in ['bottom','left']:\n",
    "    ax.spines[axis].set_linewidth(1)\n",
    "\n",
    "sns.boxplot(ax = ax,\n",
    "            data=caspase_nucleation_all,\n",
    "            x = 'type',\n",
    "            y='nb_CTLs_50mu',\n",
    "            order = order,\n",
    "            width = 0.5,\n",
    "            palette = ['firebrick', 'dodgerblue'] ,\n",
    "           )\n",
    "\n",
    "sns.swarmplot(data=caspase_nucleation_all,\n",
    "              x = 'type',\n",
    "              y='nb_CTLs_50mu',\n",
    "              color = 'k',\n",
    "              dodge = True,\n",
    "              size=4,\n",
    "              alpha = 0.7,\n",
    "              order = order,\n",
    "             )\n",
    "\n",
    "ax.set_ylabel('Number of CTLs', fontsize=14)\n",
    "ax.set_xlabel(' ', fontsize=14)\n",
    "labels = [r'APC$^{\\mathrm{Min}\\ /+}$', 'CTRL']\n",
    "ax.set_xticklabels(labels, fontsize=12)\n",
    "plt.show()"
   ]
  },
  {
   "cell_type": "markdown",
   "id": "a3a2353b-5d2e-4a1b-a6c5-4cc571c86d63",
   "metadata": {},
   "source": [
    "# EP before cascade of killing"
   ]
  },
  {
   "cell_type": "code",
   "execution_count": 12,
   "id": "567c80ee-de25-4731-91e9-011020fc6eae",
   "metadata": {
    "tags": []
   },
   "outputs": [
    {
     "name": "stderr",
     "output_type": "stream",
     "text": [
      "C:\\Users\\vabonnet\\AppData\\Local\\miniconda3\\envs\\APC\\lib\\site-packages\\ipykernel_launcher.py:14: SettingWithCopyWarning: \n",
      "A value is trying to be set on a copy of a slice from a DataFrame.\n",
      "Try using .loc[row_indexer,col_indexer] = value instead\n",
      "\n",
      "See the caveats in the documentation: https://pandas.pydata.org/pandas-docs/stable/user_guide/indexing.html#returning-a-view-versus-a-copy\n",
      "  \n",
      "C:\\Users\\vabonnet\\AppData\\Local\\miniconda3\\envs\\APC\\lib\\site-packages\\ipykernel_launcher.py:16: SettingWithCopyWarning: \n",
      "A value is trying to be set on a copy of a slice from a DataFrame.\n",
      "Try using .loc[row_indexer,col_indexer] = value instead\n",
      "\n",
      "See the caveats in the documentation: https://pandas.pydata.org/pandas-docs/stable/user_guide/indexing.html#returning-a-view-versus-a-copy\n",
      "  \n"
     ]
    }
   ],
   "source": [
    "apc_P_aligned_to_cas=algin_P_to_cas(caspase_nucleation[caspase_nucleation.type=='apc'],EP_apc,100,50)\n",
    "wt_P_aligned_to_cas=algin_P_to_cas(caspase_nucleation[caspase_nucleation.type=='wt'],EP_wt,100,50)\n",
    "\n",
    "apc_P_aligned_to_cas['time'] *= -1\n",
    "wt_P_aligned_to_cas['time'] *= -1\n",
    "\n",
    "mean_d_apc=apc_P_aligned_to_cas.groupby(by=['time_f']).EP.mean()\n",
    "std_d_apc=apc_P_aligned_to_cas.groupby(by=['time_f']).EP.std()/np.sqrt(apc_P_aligned_to_cas.groupby(by=['time_f']).EP.count())\n",
    "\n",
    "mean_d_wt=wt_P_aligned_to_cas.groupby(by=['time_f']).EP.mean()\n",
    "std_d_wt=wt_P_aligned_to_cas.groupby(by=['time_f']).EP.std()/np.sqrt(wt_P_aligned_to_cas.groupby(by=['time_f']).EP.count())\n",
    "\n",
    "ep_apc = apc_P_aligned_to_cas[['EP', 'time']]\n",
    "ep_apc['type'] = 'apc'\n",
    "ep_wt = wt_P_aligned_to_cas[['EP', 'time']]\n",
    "ep_wt['type'] = 'wt'\n",
    "ep = pandas.concat([ep_apc, ep_wt]).reset_index(drop = True)"
   ]
  },
  {
   "cell_type": "code",
   "execution_count": 13,
   "id": "3eb8e654-82aa-4009-9093-daa3fb0432f1",
   "metadata": {
    "tags": []
   },
   "outputs": [
    {
     "data": {
      "image/png": "[encoded data removed]",
      "text/plain": [
       "<Figure size 300x300 with 1 Axes>"
      ]
     },
     "metadata": {},
     "output_type": "display_data"
    }
   ],
   "source": [
    "# Define font\n",
    "plt.rc('font',family='Arial')\n",
    "\n",
    "# Plot\n",
    "fig, ax = plt.subplots(1, figsize = (3,3))\n",
    "\n",
    "order = ['apc', 'wt']\n",
    "\n",
    "ax.set_xlim(-4,0)\n",
    "ax.spines['top'].set_visible(False)\n",
    "ax.spines['right'].set_visible(False)\n",
    "ax.spines['bottom'].set_visible(True)\n",
    "ax.spines['left'].set_visible(True)\n",
    "ax.tick_params(axis='x', labelsize=14, rotation=0)\n",
    "ax.tick_params(axis='y', labelsize=14)        \n",
    "ax.tick_params(width=1, length=4)\n",
    "for axis in ['bottom','left']:\n",
    "    ax.spines[axis].set_linewidth(1)\n",
    "\n",
    "sns.lineplot(ax = ax,\n",
    "    data = ep,\n",
    "    x = 'time',\n",
    "    y = 'EP',\n",
    "    hue = 'type',\n",
    "    palette = ['firebrick', 'dodgerblue'],\n",
    "    errorbar = 'se',    \n",
    ")\n",
    "\n",
    "ax.set_xlabel('Time before caspase (h)', fontsize = 14)\n",
    "ax.set_ylabel(r'$\\langle$EP$\\rangle$', fontsize = 14)\n",
    "ax.get_legend().remove()\n",
    "plt.show()"
   ]
  },
  {
   "cell_type": "code",
   "execution_count": null,
   "id": "3a8c3fd2-af11-48af-a3fc-70c2c1abc6b5",
   "metadata": {},
   "outputs": [],
   "source": []
  }
 ],
 "metadata": {
  "kernelspec": {
   "display_name": "Python 3 (ipykernel)",
   "language": "python",
   "name": "python3"
  },
  "language_info": {
   "codemirror_mode": {
    "name": "ipython",
    "version": 3
   },
   "file_extension": ".py",
   "mimetype": "text/x-python",
   "name": "python",
   "nbconvert_exporter": "python",
   "pygments_lexer": "ipython3",
   "version": "3.7.16"
  }
 },
 "nbformat": 4,
 "nbformat_minor": 5
}
